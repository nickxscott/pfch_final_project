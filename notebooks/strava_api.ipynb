{
 "cells": [
  {
   "cell_type": "markdown",
   "id": "c1238d27-73fd-4699-9377-95327fb57dd5",
   "metadata": {},
   "source": [
    "I regularly use a fitness app called Strava to track my runs and bike rides. A friend of mine told me recently that Strava has an API that allows users to access their raw data. I looked up an article on how to access it and followed the instructions (article: https://medium.com/swlh/using-python-to-connect-to-stravas-api-and-analyse-your-activities-dummies-guide-5f49727aac86). The Strava API requires authentication and uses a token system that was surprisingly complicated. Much of the code below was copied from the article. Once I was able to get the data from my most recent 200 activies into a CSV, I did a few quick data visualizations. I'm thinking that I want to use this API/data for my final project. My initial idea is to create a training log to track my weekly runs and analyze changes in fitness over time. "
   ]
  },
  {
   "cell_type": "code",
   "execution_count": null,
   "id": "8d9eba25-0f09-4541-88b3-28cb3e08e184",
   "metadata": {},
   "outputs": [],
   "source": [
    "Establishing connection to Strava API"
   ]
  },
  {
   "cell_type": "code",
   "execution_count": 1,
   "id": "8b33ce13-8775-45be-9119-96ac48ebddfc",
   "metadata": {},
   "outputs": [],
   "source": [
    "import requests\n",
    "import json\n",
    "import requests\n",
    "from pandas.io.json import json_normalize\n",
    "import csv\n",
    "import time"
   ]
  },
  {
   "cell_type": "code",
   "execution_count": 5,
   "id": "b7314bb4-c308-4eb2-ad13-1bb3d823e614",
   "metadata": {},
   "outputs": [
    {
     "name": "stdout",
     "output_type": "stream",
     "text": [
      "{'token_type': 'Bearer', 'expires_at': 1637530725, 'expires_in': 21600, 'refresh_token': '737b8909d96548abddd3aabbee2e610b7f478402', 'access_token': '0906682d3412c16f6ba3b4e049734441728f44c1', 'athlete': {'id': 3171594, 'username': None, 'resource_state': 2, 'firstname': 'Nick', 'lastname': 'Scott', 'bio': None, 'city': 'Brooklyn', 'state': 'New York', 'country': 'United States', 'sex': 'M', 'premium': False, 'summit': False, 'created_at': '2013-10-09T01:11:42Z', 'updated_at': '2021-09-05T15:12:29Z', 'badge_type_id': 0, 'weight': 72.5748, 'profile_medium': 'https://dgalywyr863hv.cloudfront.net/pictures/athletes/3171594/3765688/3/medium.jpg', 'profile': 'https://dgalywyr863hv.cloudfront.net/pictures/athletes/3171594/3765688/3/large.jpg', 'friend': None, 'follower': None}}\n"
     ]
    }
   ],
   "source": [
    "# Make Strava auth API call with your \n",
    "# client_code, client_secret and code\n",
    "response = requests.post(\n",
    "                    url = 'https://www.strava.com/oauth/token',\n",
    "                    data = {\n",
    "                            'client_id': 72140,\n",
    "                            'client_secret': '4e8f3558fa19f81cf9b0886f842037a36c1510b4',\n",
    "                            'code': '86a4df286ceb682ba4dbcf30be1541d62af96b49',\n",
    "                            'grant_type': 'authorization_code'\n",
    "                            }\n",
    "                )\n",
    "#Save json response as a variable\n",
    "strava_tokens = response.json()\n",
    "# Save tokens to file\n",
    "with open('strava_tokens.json', 'w') as outfile:\n",
    "    json.dump(strava_tokens, outfile)\n",
    "# Open JSON file and print the file contents \n",
    "# to check it's worked properly\n",
    "with open('strava_tokens.json') as check:\n",
    "  data = json.load(check)\n",
    "print(data)"
   ]
  },
  {
   "cell_type": "markdown",
   "id": "69d4fd0b-bd6e-4bb4-8e08-541b34a3cf30",
   "metadata": {},
   "source": [
    "Getting first 30 activities to inspect data"
   ]
  },
  {
   "cell_type": "code",
   "execution_count": 6,
   "id": "36f7fd90-de5f-4d4c-a9cc-07032a12c9b3",
   "metadata": {},
   "outputs": [
    {
     "name": "stderr",
     "output_type": "stream",
     "text": [
      "C:\\Users\\nickx\\AppData\\Local\\Temp/ipykernel_18760/353175613.py:11: FutureWarning: pandas.io.json.json_normalize is deprecated, use pandas.json_normalize instead\n",
      "  df = json_normalize(r)\n"
     ]
    }
   ],
   "source": [
    "# Get the tokens from file to connect to Strava\n",
    "with open('strava_tokens.json') as json_file:\n",
    "    strava_tokens = json.load(json_file)\n",
    "# Loop through all activities\n",
    "url = \"https://www.strava.com/api/v3/activities\"\n",
    "access_token = strava_tokens['access_token']\n",
    "# Get first page of activities from Strava with all fields\n",
    "r = requests.get(url + '?access_token=' + access_token)\n",
    "r = r.json()\n",
    "    \n",
    "df = json_normalize(r)\n",
    "df.to_csv('strava_activities_all_fields.csv')"
   ]
  },
  {
   "cell_type": "markdown",
   "id": "506fa653-1594-4389-8bec-4eb0a5f9a676",
   "metadata": {},
   "source": [
    "Automate retrieval of new tokens when old ones expire"
   ]
  },
  {
   "cell_type": "code",
   "execution_count": 7,
   "id": "0eed1be4-f9f7-4e23-94e1-c7d71d306ddc",
   "metadata": {},
   "outputs": [
    {
     "name": "stdout",
     "output_type": "stream",
     "text": [
      "{'token_type': 'Bearer', 'expires_at': 1637530725, 'expires_in': 21600, 'refresh_token': '737b8909d96548abddd3aabbee2e610b7f478402', 'access_token': '0906682d3412c16f6ba3b4e049734441728f44c1', 'athlete': {'id': 3171594, 'username': None, 'resource_state': 2, 'firstname': 'Nick', 'lastname': 'Scott', 'bio': None, 'city': 'Brooklyn', 'state': 'New York', 'country': 'United States', 'sex': 'M', 'premium': False, 'summit': False, 'created_at': '2013-10-09T01:11:42Z', 'updated_at': '2021-09-05T15:12:29Z', 'badge_type_id': 0, 'weight': 72.5748, 'profile_medium': 'https://dgalywyr863hv.cloudfront.net/pictures/athletes/3171594/3765688/3/medium.jpg', 'profile': 'https://dgalywyr863hv.cloudfront.net/pictures/athletes/3171594/3765688/3/large.jpg', 'friend': None, 'follower': None}}\n"
     ]
    }
   ],
   "source": [
    "# Get the tokens from file to connect to Strava\n",
    "with open('strava_tokens.json') as json_file:\n",
    "    strava_tokens = json.load(json_file)\n",
    "# If access_token has expired then \n",
    "# use the refresh_token to get the new access_token\n",
    "if strava_tokens['expires_at'] < time.time():\n",
    "# Make Strava auth API call with current refresh token\n",
    "    response = requests.post(\n",
    "                        url = 'https://www.strava.com/oauth/token',\n",
    "                        data = {\n",
    "                                'client_id': [INSERT_CLIENT_ID_HERE],\n",
    "                                'client_secret': '[INSERT_CLIENT_SECRET_KEY]',\n",
    "                                'grant_type': 'refresh_token',\n",
    "                                'refresh_token': strava_tokens['refresh_token']\n",
    "                                }\n",
    "                    )\n",
    "# Save response as json in new variable\n",
    "    new_strava_tokens = response.json()\n",
    "# Save new tokens to file\n",
    "    with open('strava_tokens.json', 'w') as outfile:\n",
    "        json.dump(new_strava_tokens, outfile)\n",
    "# Use new Strava tokens from now\n",
    "    strava_tokens = new_strava_tokens\n",
    "# Open the new JSON file and print the file contents \n",
    "# to check it's worked properly\n",
    "with open('strava_tokens.json') as check:\n",
    "  data = json.load(check)\n",
    "print(data)"
   ]
  },
  {
   "cell_type": "markdown",
   "id": "0c4566fb-a490-4dc3-9125-5c21251144be",
   "metadata": {},
   "source": [
    "Getting 200 activities from Strava. Ready to start playing with the data!"
   ]
  },
  {
   "cell_type": "code",
   "execution_count": 8,
   "id": "84ec95ef-39e6-4942-9cc3-64d2bbe6112f",
   "metadata": {},
   "outputs": [
    {
     "name": "stderr",
     "output_type": "stream",
     "text": [
      "C:\\Users\\nickx\\AppData\\Local\\Temp/ipykernel_18760/3862660779.py:26: FutureWarning: pandas.io.json.json_normalize is deprecated, use pandas.json_normalize instead\n",
      "  df = json_normalize(r)\n"
     ]
    }
   ],
   "source": [
    "## Get the tokens from file to connect to Strava\n",
    "with open('strava_tokens.json') as json_file:\n",
    "    strava_tokens = json.load(json_file)\n",
    "## If access_token has expired then use the refresh_token to get the new access_token\n",
    "if strava_tokens['expires_at'] < time.time():\n",
    "#Make Strava auth API call with current refresh token\n",
    "    response = requests.post(\n",
    "                        url = 'https://www.strava.com/oauth/token',\n",
    "                        data = {\n",
    "                                'client_id': [INSERT_CLIENT_ID_HERE],\n",
    "                                'client_secret': '[INSERT_CLIENT_SECRET_KEY]',\n",
    "                                'grant_type': 'refresh_token',\n",
    "                                'refresh_token': strava_tokens['refresh_token']\n",
    "                                }\n",
    "                    )\n",
    "#Save response as json in new variable\n",
    "    new_strava_tokens = response.json()\n",
    "# Save new tokens to file\n",
    "    with open('strava_tokens.json', 'w') as outfile:\n",
    "        json.dump(new_strava_tokens, outfile)\n",
    "#Use new Strava tokens from now\n",
    "    strava_tokens = new_strava_tokens\n",
    "r = requests.get(url + '?access_token=' + access_token + '&per_page=200')\n",
    "r = r.json()\n",
    "    \n",
    "df = json_normalize(r)\n",
    "df.to_csv('strava_activities_all_fields.csv')"
   ]
  },
  {
   "cell_type": "markdown",
   "id": "8a54e1e5-88e1-4d33-846a-994232a55c57",
   "metadata": {},
   "source": [
    "importing activities csv and limiting them to runs only (removing bike rides, hikes, etc.)"
   ]
  },
  {
   "cell_type": "markdown",
   "id": "53ffcb42-cd34-4451-928d-cf262113bcd5",
   "metadata": {},
   "source": [
    "Another quick bar plot of the same runs as above, but displaying average heart rate (a decent approximation of effort). Starting to get some good ideas for a final project!"
   ]
  },
  {
   "cell_type": "code",
   "execution_count": null,
   "id": "f36122e7-0669-476c-a782-7d3c5c6c1299",
   "metadata": {},
   "outputs": [],
   "source": []
  }
 ],
 "metadata": {
  "kernelspec": {
   "display_name": "Python 3 (ipykernel)",
   "language": "python",
   "name": "python3"
  },
  "language_info": {
   "codemirror_mode": {
    "name": "ipython",
    "version": 3
   },
   "file_extension": ".py",
   "mimetype": "text/x-python",
   "name": "python",
   "nbconvert_exporter": "python",
   "pygments_lexer": "ipython3",
   "version": "3.8.12"
  }
 },
 "nbformat": 4,
 "nbformat_minor": 5
}
